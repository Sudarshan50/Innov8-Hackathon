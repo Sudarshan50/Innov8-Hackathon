{
 "cells": [
  {
   "cell_type": "code",
   "execution_count": 1,
   "metadata": {},
   "outputs": [],
   "source": [
    "import pandas as pd\n",
    "import numpy as np\n"
   ]
  },
  {
   "cell_type": "markdown",
   "metadata": {},
   "source": [
    "Load Data"
   ]
  },
  {
   "cell_type": "code",
   "execution_count": 2,
   "metadata": {},
   "outputs": [
    {
     "data": {
      "text/plain": [
       "<bound method NDFrame.head of                                                message  fingers tail   species\n",
       "0                                   pluvia arbor aquos        4   no    Aquari\n",
       "1                            cosmix xeno nebuz odbitaz        5  yes   Zorblax\n",
       "2                   solarix glixx novum galaxum quasar        5  yes   Zorblax\n",
       "3             arbor insectus pesros ekos dootix nimbus        2  yes   Florian\n",
       "4                    mermax drakos lorix epikoz deftax        4   no    Faerix\n",
       "..                                                 ...      ...  ...       ...\n",
       "495  empathix sadix disgux dredax pridius afgstix e...        2   no  Emotivor\n",
       "496                      quasar ustron nebulax meteorn        4   no   Quixnar\n",
       "497                 astron xeno ceaestar astron kometa        6  yes   Zorblax\n",
       "498  sporzom nimbus terram terranix aviana ekos nimbub        2  yes   Florian\n",
       "499     blastix titanos relikum drakos gryphox sirenix        4  yes   Mythron\n",
       "\n",
       "[500 rows x 4 columns]>"
      ]
     },
     "execution_count": 2,
     "metadata": {},
     "output_type": "execute_result"
    }
   ],
   "source": [
    "db = pd.read_csv('data.csv')\n",
    "db.head"
   ]
  },
  {
   "cell_type": "code",
   "execution_count": 3,
   "metadata": {},
   "outputs": [
    {
     "name": "stdout",
     "output_type": "stream",
     "text": [
      "<class 'pandas.core.frame.DataFrame'>\n",
      "RangeIndex: 500 entries, 0 to 499\n",
      "Data columns (total 4 columns):\n",
      " #   Column   Non-Null Count  Dtype \n",
      "---  ------   --------------  ----- \n",
      " 0   message  500 non-null    object\n",
      " 1   fingers  500 non-null    int64 \n",
      " 2   tail     500 non-null    object\n",
      " 3   species  500 non-null    object\n",
      "dtypes: int64(1), object(3)\n",
      "memory usage: 15.8+ KB\n"
     ]
    }
   ],
   "source": [
    "db.info()"
   ]
  },
  {
   "cell_type": "code",
   "execution_count": 5,
   "metadata": {},
   "outputs": [
    {
     "data": {
      "text/plain": [
       "np.int64(0)"
      ]
     },
     "execution_count": 5,
     "metadata": {},
     "output_type": "execute_result"
    }
   ],
   "source": [
    "db.duplicated().sum()"
   ]
  },
  {
   "cell_type": "markdown",
   "metadata": {},
   "source": [
    "No null as well as duplicate data"
   ]
  },
  {
   "cell_type": "code",
   "execution_count": null,
   "metadata": {},
   "outputs": [],
   "source": []
  }
 ],
 "metadata": {
  "kernelspec": {
   "display_name": "Python 3",
   "language": "python",
   "name": "python3"
  },
  "language_info": {
   "codemirror_mode": {
    "name": "ipython",
    "version": 3
   },
   "file_extension": ".py",
   "mimetype": "text/x-python",
   "name": "python",
   "nbconvert_exporter": "python",
   "pygments_lexer": "ipython3",
   "version": "3.12.1"
  }
 },
 "nbformat": 4,
 "nbformat_minor": 2
}
